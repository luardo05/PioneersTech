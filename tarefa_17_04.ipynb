{
  "nbformat": 4,
  "nbformat_minor": 0,
  "metadata": {
    "colab": {
      "provenance": [],
      "authorship_tag": "ABX9TyMFY3UvSWHNu+wyiDnR0xEC",
      "include_colab_link": true
    },
    "kernelspec": {
      "name": "python3",
      "display_name": "Python 3"
    },
    "language_info": {
      "name": "python"
    }
  },
  "cells": [
    {
      "cell_type": "markdown",
      "metadata": {
        "id": "view-in-github",
        "colab_type": "text"
      },
      "source": [
        "<a href=\"https://colab.research.google.com/github/luardo05/PioneersTech/blob/main/tarefa_17_04.ipynb\" target=\"_parent\"><img src=\"https://colab.research.google.com/assets/colab-badge.svg\" alt=\"Open In Colab\"/></a>"
      ]
    },
    {
      "cell_type": "code",
      "execution_count": 1,
      "metadata": {
        "colab": {
          "base_uri": "https://localhost:8080/"
        },
        "id": "yZJ-VVQUOfE2",
        "outputId": "34f9d36f-8534-4ad3-b893-11807a8b1a14"
      },
      "outputs": [
        {
          "output_type": "stream",
          "name": "stdout",
          "text": [
            "Digite o ano do seu carro:1989\n",
            "Digite o valor do seu carro:100\n",
            "Seu carro é do ano de 1989 então o seu imposto é de R$: 1.0\n"
          ]
        }
      ],
      "source": [
        "anoCarro = int(input(\"Digite o ano do seu carro:\"))\n",
        "valorCarro = float(input(\"Digite o valor do seu carro:\"))\n",
        "\n",
        "if(anoCarro < 1990):\n",
        "    print(\"Seu carro é do ano de\", anoCarro, \"então o seu imposto é de R$:\", (1/100*valorCarro))\n",
        "\n",
        "else:\n",
        "    print(\"Seu carro é do ano de\", anoCarro, \"então o seu imposto é de R$:\", (1.5/100*valorCarro))\n",
        ""
      ]
    },
    {
      "cell_type": "code",
      "source": [
        "salario = float(input(\"Digite o seu salário:\"))\n",
        "cargo = input(\"Digite o seu cargo:\")\n",
        "\n",
        "if(cargo == \"gerente\"):\n",
        "    p = \"10%\"\n",
        "    print(\"Olá, como o seu cargo é de\", cargo, \"seu aumento de salario será de\", p, \"então seu salario mudará de:\", salario,\"para:\", (salario*10/100)+salario, \"aumento foi de\",(salario*10/100))\n",
        "elif(cargo == \"engenheiro\"):\n",
        "    p = \"20%\"\n",
        "    print(\"Olá, como o seu cargo é de\", cargo, \"seu aumento de salario será de\", p, \"então seu salario mudará de:\", salario,\"para:\", (salario*20/100)+salario, \"aumento foi de\",(salario*20/100))\n",
        "elif(cargo == \"técnico\"):\n",
        "    p = \"30%\"\n",
        "    print(\"Olá, como o seu cargo é de\", cargo, \"seu aumento de salario será de\", p, \"então seu salario mudará de:\", salario,\"para:\", (salario*30/100)+salario, \"aumento foi de\",(salario*30/100))\n",
        "else:\n",
        "    p = \"40%\"\n",
        "    print(\"Olá, como o seu cargo é de\", cargo, \"seu aumento de salario será de\", p, \"então seu salario mudará de:\", salario,\"para:\", (salario*40/100)+salario, \"aumento foi de\",(salario*40/100))"
      ],
      "metadata": {
        "id": "aZhILmM7b6jc"
      },
      "execution_count": null,
      "outputs": []
    }
  ]
}