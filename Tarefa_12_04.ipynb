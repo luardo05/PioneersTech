{
  "nbformat": 4,
  "nbformat_minor": 0,
  "metadata": {
    "colab": {
      "provenance": [],
      "authorship_tag": "ABX9TyMfm7Mp2OApxMXYtotdfL7v",
      "include_colab_link": true
    },
    "kernelspec": {
      "name": "python3",
      "display_name": "Python 3"
    },
    "language_info": {
      "name": "python"
    }
  },
  "cells": [
    {
      "cell_type": "markdown",
      "metadata": {
        "id": "view-in-github",
        "colab_type": "text"
      },
      "source": [
        "<a href=\"https://colab.research.google.com/github/luardo05/PioneersTech/blob/main/Tarefa_12_04.ipynb\" target=\"_parent\"><img src=\"https://colab.research.google.com/assets/colab-badge.svg\" alt=\"Open In Colab\"/></a>"
      ]
    },
    {
      "cell_type": "code",
      "execution_count": 1,
      "metadata": {
        "colab": {
          "base_uri": "https://localhost:8080/"
        },
        "id": "Ec-BE8bah35Y",
        "outputId": "381f2627-2e72-4d8d-cc4a-78fde436088b"
      },
      "outputs": [
        {
          "output_type": "stream",
          "name": "stdout",
          "text": [
            "Digite um numero inteiro:5\n",
            "Digite um numero real:5\n",
            "O produto do dobro do primeiro com metade do segundo é: 25.0\n",
            "A soma do triplo do primeiro com o terceiro elevado ao cubo. 140\n"
          ]
        }
      ],
      "source": [
        "#Faça um Programa que peça 2 números inteiros e um número real. Calcule e mostre:\n",
        "\n",
        "vi = int(input(\"Digite um numero inteiro:\"))\n",
        "vr = float(input(\"Digite um numero real:\"))\n",
        "\n",
        "print(\"O produto do dobro do primeiro com metade do segundo é:\",(2*vi)*(vr/2))\n",
        "\n",
        "print(\"A soma do triplo do primeiro com o terceiro elevado ao cubo.\", (vi*3)+(vr**3))"
      ]
    },
    {
      "cell_type": "code",
      "source": [
        "#Faça um Programa que peça dois números e imprima o maior deles.\n",
        "\n",
        "v1 = int(input(\"Digite um numero inteiro:\"))\n",
        "v2 = int(input(\"Digite um numero:\"))\n",
        "\n",
        "if(v1 > v2):\n",
        "    print(\"O numero\", v1, \"é maior\")\n",
        "else:\n",
        "    print(\"O numero\", v2, \"é maior\")"
      ],
      "metadata": {
        "colab": {
          "base_uri": "https://localhost:8080/"
        },
        "id": "H957iWN3iCDH",
        "outputId": "7048823d-0e0a-433d-d855-590238a63134"
      },
      "execution_count": 3,
      "outputs": [
        {
          "output_type": "stream",
          "name": "stdout",
          "text": [
            "Digite um numero inteiro:52\n",
            "Digite um numero:12\n",
            "O numero 52 é maior\n"
          ]
        }
      ]
    },
    {
      "cell_type": "code",
      "source": [
        "#Faça um Programa que peça um valor e mostre na tela se o valor é positivo ou negativo.\n",
        "vf = float(input(\"Digite um numero real:\"))\n",
        "if(vf>0):\n",
        "  print(\"O numero\", vf, \"é positivo\")\n",
        "if(vf==0):\n",
        "  print(\"O numero\", vf, \"é neutro\")\n",
        "else:\n",
        "  print(\"O numero\", vf, \"é negativo\")\n",
        "\n"
      ],
      "metadata": {
        "colab": {
          "base_uri": "https://localhost:8080/"
        },
        "id": "ZKlYH3UoiIrn",
        "outputId": "26c8002a-cc40-4764-850b-266d534a10c1"
      },
      "execution_count": 10,
      "outputs": [
        {
          "output_type": "stream",
          "name": "stdout",
          "text": [
            "Digite um numero real:0\n",
            "O numero 0.0 é neutro\n"
          ]
        }
      ]
    },
    {
      "cell_type": "code",
      "source": [
        "#4) Faça um programa para a leitura de duas notas parciais de um aluno. O programa deve calcular a média alcançada por aluno\n",
        "#e apresentar o resultado \"Aprovado\" ou \"Reprovado\". Considere que a escola adota média 7.00.\n",
        "vn1 = float(input(\"Digite um numero real:\"))\n",
        "vn2 = float(input(\"Digite um numero real:\"))\n",
        "vm = (vn1+vn2)/2\n",
        "if(vm>=7):\n",
        "  print(\"Aprovado\")\n",
        "else:\n",
        "  print(\"Reprovado\")\n"
      ],
      "metadata": {
        "colab": {
          "base_uri": "https://localhost:8080/"
        },
        "id": "7SlvjvaLjf-V",
        "outputId": "dc5f8a61-b613-46ab-c6ed-e0491fe87688"
      },
      "execution_count": 12,
      "outputs": [
        {
          "output_type": "stream",
          "name": "stdout",
          "text": [
            "Digite um numero real:7\n",
            "Digite um numero real:6\n",
            "Reprovado\n"
          ]
        }
      ]
    },
    {
      "cell_type": "code",
      "source": [
        "#5)Faça um Programa que leia três números e mostre o maior deles\n",
        "vx1 = float(input(\"Digite um numero real:\"))\n",
        "vx2 = float(input(\"Digite um numero real:\"))\n",
        "vx3 = float(input(\"Digite um numero real:\"))\n",
        "\n",
        "maiorNumero = max(vx1,vx2,vx3)\n",
        "print(\"o maior numero é\", maiorNumero)\n"
      ],
      "metadata": {
        "colab": {
          "base_uri": "https://localhost:8080/"
        },
        "id": "t2beK9WQkJ0D",
        "outputId": "0f16e812-93ba-4a8b-8965-d15bc050dce1"
      },
      "execution_count": 13,
      "outputs": [
        {
          "output_type": "stream",
          "name": "stdout",
          "text": [
            "Digite um numero real:1\n",
            "Digite um numero real:2\n",
            "Digite um numero real:3\n",
            "o maior numero é 3.0\n"
          ]
        }
      ]
    }
  ]
}